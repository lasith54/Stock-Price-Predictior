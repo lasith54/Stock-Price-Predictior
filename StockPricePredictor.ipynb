{
  "nbformat": 4,
  "nbformat_minor": 0,
  "metadata": {
    "colab": {
      "provenance": [],
      "gpuType": "T4"
    },
    "kernelspec": {
      "name": "python3",
      "display_name": "Python 3"
    },
    "language_info": {
      "name": "python"
    },
    "accelerator": "GPU"
  },
  "cells": [
    {
      "cell_type": "markdown",
      "source": [],
      "metadata": {
        "id": "bbRr0XMMi_eO"
      }
    },
    {
      "cell_type": "markdown",
      "metadata": {
        "id": "view-in-github"
      },
      "source": [
        "<a href=\"https://colab.research.google.com/github/lasith54/Stock-Price-Predictor/blob/main/StockPrice.ipynb\" target=\"_parent\"><img src=\"https://colab.research.google.com/assets/colab-badge.svg\" alt=\"Open In Colab\"/></a>"
      ]
    },
    {
      "cell_type": "code",
      "source": [
        "# Load Google drive into Colab\n",
        "from google.colab import drive\n",
        "drive.mount('/content/drive')"
      ],
      "metadata": {
        "colab": {
          "base_uri": "https://localhost:8080/"
        },
        "id": "ksHXpjzkxVdE",
        "outputId": "b6e139ba-e836-481e-9eb9-b973ac45e49e"
      },
      "execution_count": 710,
      "outputs": [
        {
          "output_type": "stream",
          "name": "stdout",
          "text": [
            "Drive already mounted at /content/drive; to attempt to forcibly remount, call drive.mount(\"/content/drive\", force_remount=True).\n"
          ]
        }
      ]
    },
    {
      "cell_type": "code",
      "execution_count": 711,
      "metadata": {
        "id": "DOTB-OQdyK3s"
      },
      "outputs": [],
      "source": [
        "import pandas as pd\n",
        "import numpy as np\n",
        "import matplotlib.pyplot as plt\n",
        "from sklearn.preprocessing import StandardScaler\n",
        "\n",
        "import torch\n",
        "import torch.nn as nn"
      ]
    },
    {
      "cell_type": "code",
      "source": [
        "df = pd.read_csv('AMZN (1).csv')\n",
        "df"
      ],
      "metadata": {
        "id": "ZKT61726JLCd",
        "colab": {
          "base_uri": "https://localhost:8080/",
          "height": 423
        },
        "outputId": "a99ec87c-1333-449e-d35a-313e900acadf"
      },
      "execution_count": 712,
      "outputs": [
        {
          "output_type": "execute_result",
          "data": {
            "text/plain": [
              "            Date        Open        High         Low       Close   Adj Close  \\\n",
              "0     2017-06-21   49.935001   50.136002   49.632500   50.111500   50.111500   \n",
              "1     2017-06-22   50.111500   50.348000   49.860001   50.064999   50.064999   \n",
              "2     2017-06-23   50.126999   50.230999   49.901001   50.187000   50.187000   \n",
              "3     2017-06-26   50.424999   50.490002   49.599998   49.699001   49.699001   \n",
              "4     2017-06-27   49.534500   49.939999   48.799999   48.839001   48.839001   \n",
              "...          ...         ...         ...         ...         ...         ...   \n",
              "1757  2024-06-14  183.080002  183.720001  182.229996  183.660004  183.660004   \n",
              "1758  2024-06-17  182.520004  185.000000  181.220001  184.059998  184.059998   \n",
              "1759  2024-06-18  183.740005  184.289993  181.429993  182.809998  182.809998   \n",
              "1760  2024-06-20  182.910004  186.509995  182.720001  186.100006  186.100006   \n",
              "1761  2024-06-21  187.740005  188.199997  186.320007  187.710007  187.710007   \n",
              "\n",
              "        Volume  \n",
              "0     58450000  \n",
              "1     45068000  \n",
              "2     57582000  \n",
              "3     67724000  \n",
              "4     75648000  \n",
              "...        ...  \n",
              "1757  25456400  \n",
              "1758  35601900  \n",
              "1759  36659200  \n",
              "1760  43977300  \n",
              "1761  24320328  \n",
              "\n",
              "[1762 rows x 7 columns]"
            ],
            "text/html": [
              "\n",
              "  <div id=\"df-32cc22fa-9d7f-4fb3-9b72-eb2d9fbd7091\" class=\"colab-df-container\">\n",
              "    <div>\n",
              "<style scoped>\n",
              "    .dataframe tbody tr th:only-of-type {\n",
              "        vertical-align: middle;\n",
              "    }\n",
              "\n",
              "    .dataframe tbody tr th {\n",
              "        vertical-align: top;\n",
              "    }\n",
              "\n",
              "    .dataframe thead th {\n",
              "        text-align: right;\n",
              "    }\n",
              "</style>\n",
              "<table border=\"1\" class=\"dataframe\">\n",
              "  <thead>\n",
              "    <tr style=\"text-align: right;\">\n",
              "      <th></th>\n",
              "      <th>Date</th>\n",
              "      <th>Open</th>\n",
              "      <th>High</th>\n",
              "      <th>Low</th>\n",
              "      <th>Close</th>\n",
              "      <th>Adj Close</th>\n",
              "      <th>Volume</th>\n",
              "    </tr>\n",
              "  </thead>\n",
              "  <tbody>\n",
              "    <tr>\n",
              "      <th>0</th>\n",
              "      <td>2017-06-21</td>\n",
              "      <td>49.935001</td>\n",
              "      <td>50.136002</td>\n",
              "      <td>49.632500</td>\n",
              "      <td>50.111500</td>\n",
              "      <td>50.111500</td>\n",
              "      <td>58450000</td>\n",
              "    </tr>\n",
              "    <tr>\n",
              "      <th>1</th>\n",
              "      <td>2017-06-22</td>\n",
              "      <td>50.111500</td>\n",
              "      <td>50.348000</td>\n",
              "      <td>49.860001</td>\n",
              "      <td>50.064999</td>\n",
              "      <td>50.064999</td>\n",
              "      <td>45068000</td>\n",
              "    </tr>\n",
              "    <tr>\n",
              "      <th>2</th>\n",
              "      <td>2017-06-23</td>\n",
              "      <td>50.126999</td>\n",
              "      <td>50.230999</td>\n",
              "      <td>49.901001</td>\n",
              "      <td>50.187000</td>\n",
              "      <td>50.187000</td>\n",
              "      <td>57582000</td>\n",
              "    </tr>\n",
              "    <tr>\n",
              "      <th>3</th>\n",
              "      <td>2017-06-26</td>\n",
              "      <td>50.424999</td>\n",
              "      <td>50.490002</td>\n",
              "      <td>49.599998</td>\n",
              "      <td>49.699001</td>\n",
              "      <td>49.699001</td>\n",
              "      <td>67724000</td>\n",
              "    </tr>\n",
              "    <tr>\n",
              "      <th>4</th>\n",
              "      <td>2017-06-27</td>\n",
              "      <td>49.534500</td>\n",
              "      <td>49.939999</td>\n",
              "      <td>48.799999</td>\n",
              "      <td>48.839001</td>\n",
              "      <td>48.839001</td>\n",
              "      <td>75648000</td>\n",
              "    </tr>\n",
              "    <tr>\n",
              "      <th>...</th>\n",
              "      <td>...</td>\n",
              "      <td>...</td>\n",
              "      <td>...</td>\n",
              "      <td>...</td>\n",
              "      <td>...</td>\n",
              "      <td>...</td>\n",
              "      <td>...</td>\n",
              "    </tr>\n",
              "    <tr>\n",
              "      <th>1757</th>\n",
              "      <td>2024-06-14</td>\n",
              "      <td>183.080002</td>\n",
              "      <td>183.720001</td>\n",
              "      <td>182.229996</td>\n",
              "      <td>183.660004</td>\n",
              "      <td>183.660004</td>\n",
              "      <td>25456400</td>\n",
              "    </tr>\n",
              "    <tr>\n",
              "      <th>1758</th>\n",
              "      <td>2024-06-17</td>\n",
              "      <td>182.520004</td>\n",
              "      <td>185.000000</td>\n",
              "      <td>181.220001</td>\n",
              "      <td>184.059998</td>\n",
              "      <td>184.059998</td>\n",
              "      <td>35601900</td>\n",
              "    </tr>\n",
              "    <tr>\n",
              "      <th>1759</th>\n",
              "      <td>2024-06-18</td>\n",
              "      <td>183.740005</td>\n",
              "      <td>184.289993</td>\n",
              "      <td>181.429993</td>\n",
              "      <td>182.809998</td>\n",
              "      <td>182.809998</td>\n",
              "      <td>36659200</td>\n",
              "    </tr>\n",
              "    <tr>\n",
              "      <th>1760</th>\n",
              "      <td>2024-06-20</td>\n",
              "      <td>182.910004</td>\n",
              "      <td>186.509995</td>\n",
              "      <td>182.720001</td>\n",
              "      <td>186.100006</td>\n",
              "      <td>186.100006</td>\n",
              "      <td>43977300</td>\n",
              "    </tr>\n",
              "    <tr>\n",
              "      <th>1761</th>\n",
              "      <td>2024-06-21</td>\n",
              "      <td>187.740005</td>\n",
              "      <td>188.199997</td>\n",
              "      <td>186.320007</td>\n",
              "      <td>187.710007</td>\n",
              "      <td>187.710007</td>\n",
              "      <td>24320328</td>\n",
              "    </tr>\n",
              "  </tbody>\n",
              "</table>\n",
              "<p>1762 rows × 7 columns</p>\n",
              "</div>\n",
              "    <div class=\"colab-df-buttons\">\n",
              "\n",
              "  <div class=\"colab-df-container\">\n",
              "    <button class=\"colab-df-convert\" onclick=\"convertToInteractive('df-32cc22fa-9d7f-4fb3-9b72-eb2d9fbd7091')\"\n",
              "            title=\"Convert this dataframe to an interactive table.\"\n",
              "            style=\"display:none;\">\n",
              "\n",
              "  <svg xmlns=\"http://www.w3.org/2000/svg\" height=\"24px\" viewBox=\"0 -960 960 960\">\n",
              "    <path d=\"M120-120v-720h720v720H120Zm60-500h600v-160H180v160Zm220 220h160v-160H400v160Zm0 220h160v-160H400v160ZM180-400h160v-160H180v160Zm440 0h160v-160H620v160ZM180-180h160v-160H180v160Zm440 0h160v-160H620v160Z\"/>\n",
              "  </svg>\n",
              "    </button>\n",
              "\n",
              "  <style>\n",
              "    .colab-df-container {\n",
              "      display:flex;\n",
              "      gap: 12px;\n",
              "    }\n",
              "\n",
              "    .colab-df-convert {\n",
              "      background-color: #E8F0FE;\n",
              "      border: none;\n",
              "      border-radius: 50%;\n",
              "      cursor: pointer;\n",
              "      display: none;\n",
              "      fill: #1967D2;\n",
              "      height: 32px;\n",
              "      padding: 0 0 0 0;\n",
              "      width: 32px;\n",
              "    }\n",
              "\n",
              "    .colab-df-convert:hover {\n",
              "      background-color: #E2EBFA;\n",
              "      box-shadow: 0px 1px 2px rgba(60, 64, 67, 0.3), 0px 1px 3px 1px rgba(60, 64, 67, 0.15);\n",
              "      fill: #174EA6;\n",
              "    }\n",
              "\n",
              "    .colab-df-buttons div {\n",
              "      margin-bottom: 4px;\n",
              "    }\n",
              "\n",
              "    [theme=dark] .colab-df-convert {\n",
              "      background-color: #3B4455;\n",
              "      fill: #D2E3FC;\n",
              "    }\n",
              "\n",
              "    [theme=dark] .colab-df-convert:hover {\n",
              "      background-color: #434B5C;\n",
              "      box-shadow: 0px 1px 3px 1px rgba(0, 0, 0, 0.15);\n",
              "      filter: drop-shadow(0px 1px 2px rgba(0, 0, 0, 0.3));\n",
              "      fill: #FFFFFF;\n",
              "    }\n",
              "  </style>\n",
              "\n",
              "    <script>\n",
              "      const buttonEl =\n",
              "        document.querySelector('#df-32cc22fa-9d7f-4fb3-9b72-eb2d9fbd7091 button.colab-df-convert');\n",
              "      buttonEl.style.display =\n",
              "        google.colab.kernel.accessAllowed ? 'block' : 'none';\n",
              "\n",
              "      async function convertToInteractive(key) {\n",
              "        const element = document.querySelector('#df-32cc22fa-9d7f-4fb3-9b72-eb2d9fbd7091');\n",
              "        const dataTable =\n",
              "          await google.colab.kernel.invokeFunction('convertToInteractive',\n",
              "                                                    [key], {});\n",
              "        if (!dataTable) return;\n",
              "\n",
              "        const docLinkHtml = 'Like what you see? Visit the ' +\n",
              "          '<a target=\"_blank\" href=https://colab.research.google.com/notebooks/data_table.ipynb>data table notebook</a>'\n",
              "          + ' to learn more about interactive tables.';\n",
              "        element.innerHTML = '';\n",
              "        dataTable['output_type'] = 'display_data';\n",
              "        await google.colab.output.renderOutput(dataTable, element);\n",
              "        const docLink = document.createElement('div');\n",
              "        docLink.innerHTML = docLinkHtml;\n",
              "        element.appendChild(docLink);\n",
              "      }\n",
              "    </script>\n",
              "  </div>\n",
              "\n",
              "\n",
              "<div id=\"df-bb43f18e-d6c7-4043-82f6-6210871df038\">\n",
              "  <button class=\"colab-df-quickchart\" onclick=\"quickchart('df-bb43f18e-d6c7-4043-82f6-6210871df038')\"\n",
              "            title=\"Suggest charts\"\n",
              "            style=\"display:none;\">\n",
              "\n",
              "<svg xmlns=\"http://www.w3.org/2000/svg\" height=\"24px\"viewBox=\"0 0 24 24\"\n",
              "     width=\"24px\">\n",
              "    <g>\n",
              "        <path d=\"M19 3H5c-1.1 0-2 .9-2 2v14c0 1.1.9 2 2 2h14c1.1 0 2-.9 2-2V5c0-1.1-.9-2-2-2zM9 17H7v-7h2v7zm4 0h-2V7h2v10zm4 0h-2v-4h2v4z\"/>\n",
              "    </g>\n",
              "</svg>\n",
              "  </button>\n",
              "\n",
              "<style>\n",
              "  .colab-df-quickchart {\n",
              "      --bg-color: #E8F0FE;\n",
              "      --fill-color: #1967D2;\n",
              "      --hover-bg-color: #E2EBFA;\n",
              "      --hover-fill-color: #174EA6;\n",
              "      --disabled-fill-color: #AAA;\n",
              "      --disabled-bg-color: #DDD;\n",
              "  }\n",
              "\n",
              "  [theme=dark] .colab-df-quickchart {\n",
              "      --bg-color: #3B4455;\n",
              "      --fill-color: #D2E3FC;\n",
              "      --hover-bg-color: #434B5C;\n",
              "      --hover-fill-color: #FFFFFF;\n",
              "      --disabled-bg-color: #3B4455;\n",
              "      --disabled-fill-color: #666;\n",
              "  }\n",
              "\n",
              "  .colab-df-quickchart {\n",
              "    background-color: var(--bg-color);\n",
              "    border: none;\n",
              "    border-radius: 50%;\n",
              "    cursor: pointer;\n",
              "    display: none;\n",
              "    fill: var(--fill-color);\n",
              "    height: 32px;\n",
              "    padding: 0;\n",
              "    width: 32px;\n",
              "  }\n",
              "\n",
              "  .colab-df-quickchart:hover {\n",
              "    background-color: var(--hover-bg-color);\n",
              "    box-shadow: 0 1px 2px rgba(60, 64, 67, 0.3), 0 1px 3px 1px rgba(60, 64, 67, 0.15);\n",
              "    fill: var(--button-hover-fill-color);\n",
              "  }\n",
              "\n",
              "  .colab-df-quickchart-complete:disabled,\n",
              "  .colab-df-quickchart-complete:disabled:hover {\n",
              "    background-color: var(--disabled-bg-color);\n",
              "    fill: var(--disabled-fill-color);\n",
              "    box-shadow: none;\n",
              "  }\n",
              "\n",
              "  .colab-df-spinner {\n",
              "    border: 2px solid var(--fill-color);\n",
              "    border-color: transparent;\n",
              "    border-bottom-color: var(--fill-color);\n",
              "    animation:\n",
              "      spin 1s steps(1) infinite;\n",
              "  }\n",
              "\n",
              "  @keyframes spin {\n",
              "    0% {\n",
              "      border-color: transparent;\n",
              "      border-bottom-color: var(--fill-color);\n",
              "      border-left-color: var(--fill-color);\n",
              "    }\n",
              "    20% {\n",
              "      border-color: transparent;\n",
              "      border-left-color: var(--fill-color);\n",
              "      border-top-color: var(--fill-color);\n",
              "    }\n",
              "    30% {\n",
              "      border-color: transparent;\n",
              "      border-left-color: var(--fill-color);\n",
              "      border-top-color: var(--fill-color);\n",
              "      border-right-color: var(--fill-color);\n",
              "    }\n",
              "    40% {\n",
              "      border-color: transparent;\n",
              "      border-right-color: var(--fill-color);\n",
              "      border-top-color: var(--fill-color);\n",
              "    }\n",
              "    60% {\n",
              "      border-color: transparent;\n",
              "      border-right-color: var(--fill-color);\n",
              "    }\n",
              "    80% {\n",
              "      border-color: transparent;\n",
              "      border-right-color: var(--fill-color);\n",
              "      border-bottom-color: var(--fill-color);\n",
              "    }\n",
              "    90% {\n",
              "      border-color: transparent;\n",
              "      border-bottom-color: var(--fill-color);\n",
              "    }\n",
              "  }\n",
              "</style>\n",
              "\n",
              "  <script>\n",
              "    async function quickchart(key) {\n",
              "      const quickchartButtonEl =\n",
              "        document.querySelector('#' + key + ' button');\n",
              "      quickchartButtonEl.disabled = true;  // To prevent multiple clicks.\n",
              "      quickchartButtonEl.classList.add('colab-df-spinner');\n",
              "      try {\n",
              "        const charts = await google.colab.kernel.invokeFunction(\n",
              "            'suggestCharts', [key], {});\n",
              "      } catch (error) {\n",
              "        console.error('Error during call to suggestCharts:', error);\n",
              "      }\n",
              "      quickchartButtonEl.classList.remove('colab-df-spinner');\n",
              "      quickchartButtonEl.classList.add('colab-df-quickchart-complete');\n",
              "    }\n",
              "    (() => {\n",
              "      let quickchartButtonEl =\n",
              "        document.querySelector('#df-bb43f18e-d6c7-4043-82f6-6210871df038 button');\n",
              "      quickchartButtonEl.style.display =\n",
              "        google.colab.kernel.accessAllowed ? 'block' : 'none';\n",
              "    })();\n",
              "  </script>\n",
              "</div>\n",
              "\n",
              "  <div id=\"id_2b341d93-eec7-43d8-bd6e-9b8a1a53420e\">\n",
              "    <style>\n",
              "      .colab-df-generate {\n",
              "        background-color: #E8F0FE;\n",
              "        border: none;\n",
              "        border-radius: 50%;\n",
              "        cursor: pointer;\n",
              "        display: none;\n",
              "        fill: #1967D2;\n",
              "        height: 32px;\n",
              "        padding: 0 0 0 0;\n",
              "        width: 32px;\n",
              "      }\n",
              "\n",
              "      .colab-df-generate:hover {\n",
              "        background-color: #E2EBFA;\n",
              "        box-shadow: 0px 1px 2px rgba(60, 64, 67, 0.3), 0px 1px 3px 1px rgba(60, 64, 67, 0.15);\n",
              "        fill: #174EA6;\n",
              "      }\n",
              "\n",
              "      [theme=dark] .colab-df-generate {\n",
              "        background-color: #3B4455;\n",
              "        fill: #D2E3FC;\n",
              "      }\n",
              "\n",
              "      [theme=dark] .colab-df-generate:hover {\n",
              "        background-color: #434B5C;\n",
              "        box-shadow: 0px 1px 3px 1px rgba(0, 0, 0, 0.15);\n",
              "        filter: drop-shadow(0px 1px 2px rgba(0, 0, 0, 0.3));\n",
              "        fill: #FFFFFF;\n",
              "      }\n",
              "    </style>\n",
              "    <button class=\"colab-df-generate\" onclick=\"generateWithVariable('df')\"\n",
              "            title=\"Generate code using this dataframe.\"\n",
              "            style=\"display:none;\">\n",
              "\n",
              "  <svg xmlns=\"http://www.w3.org/2000/svg\" height=\"24px\"viewBox=\"0 0 24 24\"\n",
              "       width=\"24px\">\n",
              "    <path d=\"M7,19H8.4L18.45,9,17,7.55,7,17.6ZM5,21V16.75L18.45,3.32a2,2,0,0,1,2.83,0l1.4,1.43a1.91,1.91,0,0,1,.58,1.4,1.91,1.91,0,0,1-.58,1.4L9.25,21ZM18.45,9,17,7.55Zm-12,3A5.31,5.31,0,0,0,4.9,8.1,5.31,5.31,0,0,0,1,6.5,5.31,5.31,0,0,0,4.9,4.9,5.31,5.31,0,0,0,6.5,1,5.31,5.31,0,0,0,8.1,4.9,5.31,5.31,0,0,0,12,6.5,5.46,5.46,0,0,0,6.5,12Z\"/>\n",
              "  </svg>\n",
              "    </button>\n",
              "    <script>\n",
              "      (() => {\n",
              "      const buttonEl =\n",
              "        document.querySelector('#id_2b341d93-eec7-43d8-bd6e-9b8a1a53420e button.colab-df-generate');\n",
              "      buttonEl.style.display =\n",
              "        google.colab.kernel.accessAllowed ? 'block' : 'none';\n",
              "\n",
              "      buttonEl.onclick = () => {\n",
              "        google.colab.notebook.generateWithVariable('df');\n",
              "      }\n",
              "      })();\n",
              "    </script>\n",
              "  </div>\n",
              "\n",
              "    </div>\n",
              "  </div>\n"
            ],
            "application/vnd.google.colaboratory.intrinsic+json": {
              "type": "dataframe",
              "variable_name": "df",
              "summary": "{\n  \"name\": \"df\",\n  \"rows\": 1762,\n  \"fields\": [\n    {\n      \"column\": \"Date\",\n      \"properties\": {\n        \"dtype\": \"object\",\n        \"num_unique_values\": 1762,\n        \"samples\": [\n          \"2021-04-27\",\n          \"2018-04-25\",\n          \"2019-02-15\"\n        ],\n        \"semantic_type\": \"\",\n        \"description\": \"\"\n      }\n    },\n    {\n      \"column\": \"Open\",\n      \"properties\": {\n        \"dtype\": \"number\",\n        \"std\": 39.01221786629707,\n        \"min\": 47.0,\n        \"max\": 189.160004,\n        \"num_unique_values\": 1687,\n        \"samples\": [\n          89.175003,\n          152.059998,\n          71.974998\n        ],\n        \"semantic_type\": \"\",\n        \"description\": \"\"\n      }\n    },\n    {\n      \"column\": \"High\",\n      \"properties\": {\n        \"dtype\": \"number\",\n        \"std\": 39.42476309295589,\n        \"min\": 47.431499,\n        \"max\": 191.699997,\n        \"num_unique_values\": 1714,\n        \"samples\": [\n          153.979996,\n          118.150002,\n          87.599998\n        ],\n        \"semantic_type\": \"\",\n        \"description\": \"\"\n      }\n    },\n    {\n      \"column\": \"Low\",\n      \"properties\": {\n        \"dtype\": \"number\",\n        \"std\": 38.5628308404906,\n        \"min\": 46.587502,\n        \"max\": 187.440002,\n        \"num_unique_values\": 1717,\n        \"samples\": [\n          86.642998,\n          91.440002,\n          56.804001\n        ],\n        \"semantic_type\": \"\",\n        \"description\": \"\"\n      }\n    },\n    {\n      \"column\": \"Close\",\n      \"properties\": {\n        \"dtype\": \"number\",\n        \"std\": 38.97687391494901,\n        \"min\": 46.93,\n        \"max\": 189.5,\n        \"num_unique_values\": 1726,\n        \"samples\": [\n          87.626503,\n          153.748001,\n          92.391998\n        ],\n        \"semantic_type\": \"\",\n        \"description\": \"\"\n      }\n    },\n    {\n      \"column\": \"Adj Close\",\n      \"properties\": {\n        \"dtype\": \"number\",\n        \"std\": 38.97687391494901,\n        \"min\": 46.93,\n        \"max\": 189.5,\n        \"num_unique_values\": 1726,\n        \"samples\": [\n          87.626503,\n          153.748001,\n          92.391998\n        ],\n        \"semantic_type\": \"\",\n        \"description\": \"\"\n      }\n    },\n    {\n      \"column\": \"Volume\",\n      \"properties\": {\n        \"dtype\": \"number\",\n        \"std\": 39405183,\n        \"min\": 17626000,\n        \"max\": 331300000,\n        \"num_unique_values\": 1747,\n        \"samples\": [\n          30786600,\n          94261600,\n          17626000\n        ],\n        \"semantic_type\": \"\",\n        \"description\": \"\"\n      }\n    }\n  ]\n}"
            }
          },
          "metadata": {},
          "execution_count": 712
        }
      ]
    },
    {
      "cell_type": "code",
      "source": [
        "df.shape"
      ],
      "metadata": {
        "id": "_iSYRBUVNyxG",
        "colab": {
          "base_uri": "https://localhost:8080/"
        },
        "outputId": "622163d2-3164-4c9f-9544-f1ebe408ad3c"
      },
      "execution_count": 713,
      "outputs": [
        {
          "output_type": "execute_result",
          "data": {
            "text/plain": [
              "(1762, 7)"
            ]
          },
          "metadata": {},
          "execution_count": 713
        }
      ]
    },
    {
      "cell_type": "code",
      "source": [
        "df.isnull().sum()"
      ],
      "metadata": {
        "id": "-cKNATOsOGJS",
        "colab": {
          "base_uri": "https://localhost:8080/"
        },
        "outputId": "a515f270-ca83-4cbc-8019-e347391069bf"
      },
      "execution_count": 714,
      "outputs": [
        {
          "output_type": "execute_result",
          "data": {
            "text/plain": [
              "Date         0\n",
              "Open         0\n",
              "High         0\n",
              "Low          0\n",
              "Close        0\n",
              "Adj Close    0\n",
              "Volume       0\n",
              "dtype: int64"
            ]
          },
          "metadata": {},
          "execution_count": 714
        }
      ]
    },
    {
      "cell_type": "code",
      "source": [
        "device = 'cuda:0' if torch.cuda.is_available() else 'cpu'\n",
        "device"
      ],
      "metadata": {
        "id": "4DqrGS8wQAvp",
        "colab": {
          "base_uri": "https://localhost:8080/",
          "height": 36
        },
        "outputId": "cf5ced9f-8b10-4921-de2d-4d90f58fa436"
      },
      "execution_count": 715,
      "outputs": [
        {
          "output_type": "execute_result",
          "data": {
            "text/plain": [
              "'cuda:0'"
            ],
            "application/vnd.google.colaboratory.intrinsic+json": {
              "type": "string"
            }
          },
          "metadata": {},
          "execution_count": 715
        }
      ]
    },
    {
      "cell_type": "code",
      "source": [
        "train_dates = pd.to_datetime(df['Date'])"
      ],
      "metadata": {
        "id": "AwwpQTMJJazd"
      },
      "execution_count": 716,
      "outputs": []
    },
    {
      "cell_type": "code",
      "source": [
        "feature_cols = ['Open', 'High', 'Low']\n",
        "target_col = 'Close'"
      ],
      "metadata": {
        "id": "X3ubJrLoJgq0"
      },
      "execution_count": 717,
      "outputs": []
    },
    {
      "cell_type": "code",
      "source": [
        "df_for_training = df[feature_cols + [target_col]].astype(float)\n",
        "\n",
        "df_for_plot = df_for_training['Open'].tail(5000)\n",
        "df_for_plot.plot.line()\n",
        "plt.title('Open Price')\n",
        "plt.xlabel('Day')\n",
        "plt.ylabel('Price')"
      ],
      "metadata": {
        "id": "mSwhxfF5Jx4a",
        "colab": {
          "base_uri": "https://localhost:8080/",
          "height": 489
        },
        "outputId": "55b7fd88-3d3b-455f-c8c2-add35275dce7"
      },
      "execution_count": 718,
      "outputs": [
        {
          "output_type": "execute_result",
          "data": {
            "text/plain": [
              "Text(0, 0.5, 'Price')"
            ]
          },
          "metadata": {},
          "execution_count": 718
        },
        {
          "output_type": "display_data",
          "data": {
            "text/plain": [
              "<Figure size 640x480 with 1 Axes>"
            ],
            "image/png": "[encoded data removed]"
          },
          "metadata": {}
        }
      ]
    },
    {
      "cell_type": "code",
      "source": [
        "df_for_plot = df_for_training['High'].tail(5000)\n",
        "df_for_plot.plot.line()\n",
        "plt.title('High Price')\n",
        "plt.xlabel('Day')\n",
        "plt.ylabel('Price')"
      ],
      "metadata": {
        "colab": {
          "base_uri": "https://localhost:8080/",
          "height": 489
        },
        "id": "EnGzpBtmq7xp",
        "outputId": "045dfcdc-109b-4e9d-bc78-44dd9f170e1c"
      },
      "execution_count": 719,
      "outputs": [
        {
          "output_type": "execute_result",
          "data": {
            "text/plain": [
              "Text(0, 0.5, 'Price')"
            ]
          },
          "metadata": {},
          "execution_count": 719
        },
        {
          "output_type": "display_data",
          "data": {
            "text/plain": [
              "<Figure size 640x480 with 1 Axes>"
            ],
            "image/png": "[encoded data removed]"
          },
          "metadata": {}
        }
      ]
    },
    {
      "cell_type": "code",
      "source": [
        "df_for_plot = df_for_training['Low'].tail(5000)\n",
        "df_for_plot.plot.line()\n",
        "plt.title('Low Price')\n",
        "plt.xlabel('Day')\n",
        "plt.ylabel('Price')"
      ],
      "metadata": {
        "colab": {
          "base_uri": "https://localhost:8080/",
          "height": 489
        },
        "id": "jbBoXzkZq8cW",
        "outputId": "2723e9e5-c2e3-46d3-cc53-071041d28a02"
      },
      "execution_count": 720,
      "outputs": [
        {
          "output_type": "execute_result",
          "data": {
            "text/plain": [
              "Text(0, 0.5, 'Price')"
            ]
          },
          "metadata": {},
          "execution_count": 720
        },
        {
          "output_type": "display_data",
          "data": {
            "text/plain": [
              "<Figure size 640x480 with 1 Axes>"
            ],
            "image/png": "[encoded data removed]"
          },
          "metadata": {}
        }
      ]
    },
    {
      "cell_type": "code",
      "source": [
        "df_for_plot = df_for_training['Close'].tail(5000)\n",
        "df_for_plot.plot.line()\n",
        "plt.title('Close Price')\n",
        "plt.xlabel('Day')\n",
        "plt.ylabel('Price')"
      ],
      "metadata": {
        "colab": {
          "base_uri": "https://localhost:8080/",
          "height": 489
        },
        "id": "X90m3Eszq9TW",
        "outputId": "00504636-17d5-4cc9-8433-acf64faa80df"
      },
      "execution_count": 721,
      "outputs": [
        {
          "output_type": "execute_result",
          "data": {
            "text/plain": [
              "Text(0, 0.5, 'Price')"
            ]
          },
          "metadata": {},
          "execution_count": 721
        },
        {
          "output_type": "display_data",
          "data": {
            "text/plain": [
              "<Figure size 640x480 with 1 Axes>"
            ],
            "image/png": "[encoded data removed]"
          },
          "metadata": {}
        }
      ]
    },
    {
      "cell_type": "code",
      "source": [
        "X = []\n",
        "y = []"
      ],
      "metadata": {
        "id": "WWM_0WMCKxF-"
      },
      "execution_count": 722,
      "outputs": []
    },
    {
      "cell_type": "code",
      "source": [
        "n_future = 1\n",
        "n_past = 45"
      ],
      "metadata": {
        "id": "iCo5hihZK0qD"
      },
      "execution_count": 723,
      "outputs": []
    },
    {
      "cell_type": "code",
      "source": [
        "for i in range(n_past, len(df_for_training)-n_future+1):\n",
        "  X.append(df_for_training.iloc[i-n_past:i, :-1])\n",
        "  y.append(df_for_training.iloc[i + n_future - 1:i + n_future, -1])\n",
        "\n",
        "X, y = np.array(X), np.array(y)"
      ],
      "metadata": {
        "id": "eYCBSojtK6kR"
      },
      "execution_count": 724,
      "outputs": []
    },
    {
      "cell_type": "code",
      "source": [
        "print('X shape == {}.'.format(X.shape))\n",
        "print('y shape == {}.'.format(y.shape))"
      ],
      "metadata": {
        "id": "7p8j_jYzLo-6",
        "colab": {
          "base_uri": "https://localhost:8080/"
        },
        "outputId": "c98f3afe-596b-4cbf-f010-a010ff5d7483"
      },
      "execution_count": 725,
      "outputs": [
        {
          "output_type": "stream",
          "name": "stdout",
          "text": [
            "X shape == (1717, 45, 3).\n",
            "y shape == (1717, 1).\n"
          ]
        }
      ]
    },
    {
      "cell_type": "code",
      "source": [
        "X.shape"
      ],
      "metadata": {
        "id": "n_aCJySjNqWG",
        "colab": {
          "base_uri": "https://localhost:8080/"
        },
        "outputId": "3a6c9eb0-b75e-49d8-c396-c2fbc440464f"
      },
      "execution_count": 726,
      "outputs": [
        {
          "output_type": "execute_result",
          "data": {
            "text/plain": [
              "(1717, 45, 3)"
            ]
          },
          "metadata": {},
          "execution_count": 726
        }
      ]
    },
    {
      "cell_type": "code",
      "source": [
        "X_train = X[:int(len(X)*0.8)]\n",
        "X_test = X[int(len(X)*0.8):]\n",
        "\n",
        "y_train = y[:int(len(y)*0.8)]\n",
        "y_test = y[int(len(y)*0.8):]\n",
        "\n",
        "X_train.shape, X_test.shape, y_train.shape, y_test.shape"
      ],
      "metadata": {
        "id": "xUl-SIdtL7Zb",
        "colab": {
          "base_uri": "https://localhost:8080/"
        },
        "outputId": "c07a9113-7a84-4f69-9acc-31c1617ddfea"
      },
      "execution_count": 727,
      "outputs": [
        {
          "output_type": "execute_result",
          "data": {
            "text/plain": [
              "((1373, 45, 3), (344, 45, 3), (1373, 1), (344, 1))"
            ]
          },
          "metadata": {},
          "execution_count": 727
        }
      ]
    },
    {
      "cell_type": "code",
      "source": [
        "scaler_X = StandardScaler()\n",
        "scaler_y = StandardScaler()\n",
        "for i in range(X_train.shape[2]):\n",
        "    X_train[:, :, i] = scaler_X.fit_transform(X_train[:, :, i])\n",
        "    X_test[:, :, i] = scaler_X.transform(X_test[:, :, i])\n",
        "\n",
        "y_train = scaler_y.fit_transform(y_train.reshape(-1, 1))\n",
        "y_test = scaler_y.transform(y_test.reshape(-1, 1))\n"
      ],
      "metadata": {
        "id": "pkq4Z72QKYeN"
      },
      "execution_count": 728,
      "outputs": []
    },
    {
      "cell_type": "code",
      "source": [
        "X_train = torch.tensor(X_train).float()\n",
        "X_test = torch.tensor(X_test).float()\n",
        "y_train = torch.tensor(y_train).float()\n",
        "y_test = torch.tensor(y_test).float()\n",
        "\n",
        "X_train.shape, X_test.shape, y_train.shape, y_test.shape"
      ],
      "metadata": {
        "id": "c501xVaKPeaM",
        "colab": {
          "base_uri": "https://localhost:8080/"
        },
        "outputId": "38befa58-5ef5-430d-da91-6d7e5c9b5188"
      },
      "execution_count": 729,
      "outputs": [
        {
          "output_type": "execute_result",
          "data": {
            "text/plain": [
              "(torch.Size([1373, 45, 3]),\n",
              " torch.Size([344, 45, 3]),\n",
              " torch.Size([1373, 1]),\n",
              " torch.Size([344, 1]))"
            ]
          },
          "metadata": {},
          "execution_count": 729
        }
      ]
    },
    {
      "cell_type": "code",
      "source": [
        "from torch.utils.data import Dataset, DataLoader\n",
        "\n",
        "class StockPriceDataset(Dataset):\n",
        "  def __init__(self, X, y):\n",
        "    self.X = X\n",
        "    self.y = y\n",
        "\n",
        "  def __len__(self):\n",
        "    return len(self.X)\n",
        "\n",
        "  def __getitem__(self, i):\n",
        "    return self.X[i], self.y[i]\n",
        "\n",
        "train_dataset = StockPriceDataset(X_train, y_train)\n",
        "test_dataset = StockPriceDataset(X_test, y_test)"
      ],
      "metadata": {
        "id": "vpUsdkSnPtpL"
      },
      "execution_count": 730,
      "outputs": []
    },
    {
      "cell_type": "code",
      "source": [
        "batch_size = 100\n",
        "train_loader = DataLoader(train_dataset, batch_size=batch_size, shuffle=True)\n",
        "test_loader = DataLoader(test_dataset, batch_size=batch_size, shuffle=False)"
      ],
      "metadata": {
        "id": "Bl8MLdyaPwtu"
      },
      "execution_count": 731,
      "outputs": []
    },
    {
      "cell_type": "code",
      "source": [
        "for _, batch in enumerate(train_loader):\n",
        "  x_batch, y_batch = batch[0].to(device), batch[1].to(device)\n",
        "  print(x_batch.shape, y_batch.shape)\n",
        "  break"
      ],
      "metadata": {
        "id": "M6MhWHj5PzZ_",
        "colab": {
          "base_uri": "https://localhost:8080/"
        },
        "outputId": "588feeba-0cbb-4155-f10d-f40311d70f87"
      },
      "execution_count": 732,
      "outputs": [
        {
          "output_type": "stream",
          "name": "stdout",
          "text": [
            "torch.Size([100, 45, 3]) torch.Size([100, 1])\n"
          ]
        }
      ]
    },
    {
      "cell_type": "code",
      "source": [
        "class LSTM(nn.Module):\n",
        "  def __init__(self, input_size, hidden_size, num_stacked_layers):\n",
        "    super().__init__()\n",
        "    self.hidden_size = hidden_size\n",
        "    self.num_stacked_layers = num_stacked_layers\n",
        "    self.lstm = nn.LSTM(input_size, hidden_size, num_stacked_layers, batch_first=True)\n",
        "    self.fc = nn.Linear(hidden_size, 1)\n",
        "\n",
        "  def forward(self, x):\n",
        "    batch_size = x.size(0)\n",
        "    h0 = torch.zeros(self.num_stacked_layers, batch_size, self.hidden_size).to(device)\n",
        "    c0 = torch.zeros(self.num_stacked_layers, batch_size, self.hidden_size).to(device)\n",
        "    out, _ = self.lstm(x, (h0, c0))\n",
        "    out = self.fc(out[:, -1, :])\n",
        "    return out\n",
        "\n",
        "model = LSTM(3, 64, 2)\n",
        "model.to(device)\n",
        "model"
      ],
      "metadata": {
        "id": "hlnLrbmqQHPg",
        "colab": {
          "base_uri": "https://localhost:8080/"
        },
        "outputId": "7583fb78-52ad-43a9-e350-08da97a874ff"
      },
      "execution_count": 733,
      "outputs": [
        {
          "output_type": "execute_result",
          "data": {
            "text/plain": [
              "LSTM(\n",
              "  (lstm): LSTM(3, 64, num_layers=2, batch_first=True)\n",
              "  (fc): Linear(in_features=64, out_features=1, bias=True)\n",
              ")"
            ]
          },
          "metadata": {},
          "execution_count": 733
        }
      ]
    },
    {
      "cell_type": "code",
      "source": [
        "def train_one_epoch():\n",
        "  model.train(True)\n",
        "  print(f'Epoch: {epoch+1}')\n",
        "  running_loss = 0.0\n",
        "\n",
        "  for batch_index, batch in enumerate(train_loader):\n",
        "    x_batch, y_batch = batch[0].to(device), batch[1].to(device)\n",
        "\n",
        "    output = model(x_batch)\n",
        "    loss = loss_function(output, y_batch)\n",
        "    running_loss += loss.item()\n",
        "    optimizer.zero_grad()\n",
        "    loss.backward()\n",
        "    optimizer.step()\n",
        "\n",
        "    if batch_index % 20 == 1:\n",
        "      avg_loss_across_batches = running_loss / 100\n",
        "      print('Batch {0}, Loss: {1:.8f}'.format(batch_index+1, avg_loss_across_batches))\n",
        "      running_loss = 0.0\n",
        "\n",
        "  print()"
      ],
      "metadata": {
        "id": "mZXVEcioQjDn"
      },
      "execution_count": 734,
      "outputs": []
    },
    {
      "cell_type": "code",
      "source": [
        "def validate_one_epoch():\n",
        "  model.train(False)\n",
        "  running_loss = 0.0\n",
        "\n",
        "  for batch_index, batch in enumerate(test_loader):\n",
        "    x_batch, y_batch = batch[0].to(device), batch[1].to(device)\n",
        "\n",
        "    with torch.no_grad():\n",
        "      output = model(x_batch)\n",
        "      loss = loss_function(output, y_batch)\n",
        "      running_loss += loss.item()\n",
        "\n",
        "  avg_loss_across_batches = running_loss / len(test_loader)\n",
        "\n",
        "  print('Val loss: {0:.4f}'.format(avg_loss_across_batches))\n",
        "  print('***************************************************')\n",
        "  print()"
      ],
      "metadata": {
        "id": "TdI4YkZmRBqV"
      },
      "execution_count": 735,
      "outputs": []
    },
    {
      "cell_type": "code",
      "source": [
        "learning_rate = 0.01\n",
        "num_epochs = 150\n",
        "loss_function = nn.MSELoss()\n",
        "optimizer = torch.optim.Adam(model.parameters(), lr=learning_rate)\n",
        "\n",
        "for epoch in range(num_epochs):\n",
        "  train_one_epoch()\n",
        "  validate_one_epoch()"
      ],
      "metadata": {
        "colab": {
          "base_uri": "https://localhost:8080/"
        },
        "id": "z_C5e0BFRYfc",
        "outputId": "9575a29f-51ea-49b7-a162-d49d42711894"
      },
      "execution_count": 736,
      "outputs": [
        {
          "output_type": "stream",
          "name": "stdout",
          "text": [
            "Epoch: 1\n",
            "Batch 2, Loss: 0.01653320\n",
            "\n",
            "Val loss: 0.2118\n",
            "***************************************************\n",
            "\n",
            "Epoch: 2\n",
            "Batch 2, Loss: 0.00135011\n",
            "\n",
            "Val loss: 0.1021\n",
            "***************************************************\n",
            "\n",
            "Epoch: 3\n",
            "Batch 2, Loss: 0.00058146\n",
            "\n",
            "Val loss: 0.0149\n",
            "***************************************************\n",
            "\n",
            "Epoch: 4\n",
            "Batch 2, Loss: 0.00026340\n",
            "\n",
            "Val loss: 0.0148\n",
            "***************************************************\n",
            "\n",
            "Epoch: 5\n",
            "Batch 2, Loss: 0.00016971\n",
            "\n",
            "Val loss: 0.0119\n",
            "***************************************************\n",
            "\n",
            "Epoch: 6\n",
            "Batch 2, Loss: 0.00017216\n",
            "\n",
            "Val loss: 0.0115\n",
            "***************************************************\n",
            "\n",
            "Epoch: 7\n",
            "Batch 2, Loss: 0.00015519\n",
            "\n",
            "Val loss: 0.0070\n",
            "***************************************************\n",
            "\n",
            "Epoch: 8\n",
            "Batch 2, Loss: 0.00014964\n",
            "\n",
            "Val loss: 0.0100\n",
            "***************************************************\n",
            "\n",
            "Epoch: 9\n",
            "Batch 2, Loss: 0.00017758\n",
            "\n",
            "Val loss: 0.0119\n",
            "***************************************************\n",
            "\n",
            "Epoch: 10\n",
            "Batch 2, Loss: 0.00016093\n",
            "\n",
            "Val loss: 0.0070\n",
            "***************************************************\n",
            "\n",
            "Epoch: 11\n",
            "Batch 2, Loss: 0.00019042\n",
            "\n",
            "Val loss: 0.0068\n",
            "***************************************************\n",
            "\n",
            "Epoch: 12\n",
            "Batch 2, Loss: 0.00019347\n",
            "\n",
            "Val loss: 0.0107\n",
            "***************************************************\n",
            "\n",
            "Epoch: 13\n",
            "Batch 2, Loss: 0.00015629\n",
            "\n",
            "Val loss: 0.0070\n",
            "***************************************************\n",
            "\n",
            "Epoch: 14\n",
            "Batch 2, Loss: 0.00014115\n",
            "\n",
            "Val loss: 0.0059\n",
            "***************************************************\n",
            "\n",
            "Epoch: 15\n",
            "Batch 2, Loss: 0.00016342\n",
            "\n",
            "Val loss: 0.0087\n",
            "***************************************************\n",
            "\n",
            "Epoch: 16\n",
            "Batch 2, Loss: 0.00015838\n",
            "\n",
            "Val loss: 0.0107\n",
            "***************************************************\n",
            "\n",
            "Epoch: 17\n",
            "Batch 2, Loss: 0.00020955\n",
            "\n",
            "Val loss: 0.0058\n",
            "***************************************************\n",
            "\n",
            "Epoch: 18\n",
            "Batch 2, Loss: 0.00014594\n",
            "\n",
            "Val loss: 0.0059\n",
            "***************************************************\n",
            "\n",
            "Epoch: 19\n",
            "Batch 2, Loss: 0.00014386\n",
            "\n",
            "Val loss: 0.0094\n",
            "***************************************************\n",
            "\n",
            "Epoch: 20\n",
            "Batch 2, Loss: 0.00011196\n",
            "\n",
            "Val loss: 0.0108\n",
            "***************************************************\n",
            "\n",
            "Epoch: 21\n",
            "Batch 2, Loss: 0.00012970\n",
            "\n",
            "Val loss: 0.0071\n",
            "***************************************************\n",
            "\n",
            "Epoch: 22\n",
            "Batch 2, Loss: 0.00015068\n",
            "\n",
            "Val loss: 0.0055\n",
            "***************************************************\n",
            "\n",
            "Epoch: 23\n",
            "Batch 2, Loss: 0.00012059\n",
            "\n",
            "Val loss: 0.0083\n",
            "***************************************************\n",
            "\n",
            "Epoch: 24\n",
            "Batch 2, Loss: 0.00013848\n",
            "\n",
            "Val loss: 0.0092\n",
            "***************************************************\n",
            "\n",
            "Epoch: 25\n",
            "Batch 2, Loss: 0.00012285\n",
            "\n",
            "Val loss: 0.0055\n",
            "***************************************************\n",
            "\n",
            "Epoch: 26\n",
            "Batch 2, Loss: 0.00011539\n",
            "\n",
            "Val loss: 0.0056\n",
            "***************************************************\n",
            "\n",
            "Epoch: 27\n",
            "Batch 2, Loss: 0.00012112\n",
            "\n",
            "Val loss: 0.0053\n",
            "***************************************************\n",
            "\n",
            "Epoch: 28\n",
            "Batch 2, Loss: 0.00016266\n",
            "\n",
            "Val loss: 0.0080\n",
            "***************************************************\n",
            "\n",
            "Epoch: 29\n",
            "Batch 2, Loss: 0.00013417\n",
            "\n",
            "Val loss: 0.0140\n",
            "***************************************************\n",
            "\n",
            "Epoch: 30\n",
            "Batch 2, Loss: 0.00013684\n",
            "\n",
            "Val loss: 0.0058\n",
            "***************************************************\n",
            "\n",
            "Epoch: 31\n",
            "Batch 2, Loss: 0.00011774\n",
            "\n",
            "Val loss: 0.0053\n",
            "***************************************************\n",
            "\n",
            "Epoch: 32\n",
            "Batch 2, Loss: 0.00016336\n",
            "\n",
            "Val loss: 0.0056\n",
            "***************************************************\n",
            "\n",
            "Epoch: 33\n",
            "Batch 2, Loss: 0.00014508\n",
            "\n",
            "Val loss: 0.0051\n",
            "***************************************************\n",
            "\n",
            "Epoch: 34\n",
            "Batch 2, Loss: 0.00009568\n",
            "\n",
            "Val loss: 0.0102\n",
            "***************************************************\n",
            "\n",
            "Epoch: 35\n",
            "Batch 2, Loss: 0.00011142\n",
            "\n",
            "Val loss: 0.0115\n",
            "***************************************************\n",
            "\n",
            "Epoch: 36\n",
            "Batch 2, Loss: 0.00017111\n",
            "\n",
            "Val loss: 0.0066\n",
            "***************************************************\n",
            "\n",
            "Epoch: 37\n",
            "Batch 2, Loss: 0.00010324\n",
            "\n",
            "Val loss: 0.0064\n",
            "***************************************************\n",
            "\n",
            "Epoch: 38\n",
            "Batch 2, Loss: 0.00012334\n",
            "\n",
            "Val loss: 0.0057\n",
            "***************************************************\n",
            "\n",
            "Epoch: 39\n",
            "Batch 2, Loss: 0.00010743\n",
            "\n",
            "Val loss: 0.0059\n",
            "***************************************************\n",
            "\n",
            "Epoch: 40\n",
            "Batch 2, Loss: 0.00011051\n",
            "\n",
            "Val loss: 0.0068\n",
            "***************************************************\n",
            "\n",
            "Epoch: 41\n",
            "Batch 2, Loss: 0.00014361\n",
            "\n",
            "Val loss: 0.0057\n",
            "***************************************************\n",
            "\n",
            "Epoch: 42\n",
            "Batch 2, Loss: 0.00010177\n",
            "\n",
            "Val loss: 0.0051\n",
            "***************************************************\n",
            "\n",
            "Epoch: 43\n",
            "Batch 2, Loss: 0.00010911\n",
            "\n",
            "Val loss: 0.0054\n",
            "***************************************************\n",
            "\n",
            "Epoch: 44\n",
            "Batch 2, Loss: 0.00010151\n",
            "\n",
            "Val loss: 0.0095\n",
            "***************************************************\n",
            "\n",
            "Epoch: 45\n",
            "Batch 2, Loss: 0.00012476\n",
            "\n",
            "Val loss: 0.0120\n",
            "***************************************************\n",
            "\n",
            "Epoch: 46\n",
            "Batch 2, Loss: 0.00013824\n",
            "\n",
            "Val loss: 0.0052\n",
            "***************************************************\n",
            "\n",
            "Epoch: 47\n",
            "Batch 2, Loss: 0.00016627\n",
            "\n",
            "Val loss: 0.0066\n",
            "***************************************************\n",
            "\n",
            "Epoch: 48\n",
            "Batch 2, Loss: 0.00010623\n",
            "\n",
            "Val loss: 0.0066\n",
            "***************************************************\n",
            "\n",
            "Epoch: 49\n",
            "Batch 2, Loss: 0.00012035\n",
            "\n",
            "Val loss: 0.0054\n",
            "***************************************************\n",
            "\n",
            "Epoch: 50\n",
            "Batch 2, Loss: 0.00008689\n",
            "\n",
            "Val loss: 0.0098\n",
            "***************************************************\n",
            "\n",
            "Epoch: 51\n",
            "Batch 2, Loss: 0.00011553\n",
            "\n",
            "Val loss: 0.0052\n",
            "***************************************************\n",
            "\n",
            "Epoch: 52\n",
            "Batch 2, Loss: 0.00010751\n",
            "\n",
            "Val loss: 0.0056\n",
            "***************************************************\n",
            "\n",
            "Epoch: 53\n",
            "Batch 2, Loss: 0.00007349\n",
            "\n",
            "Val loss: 0.0055\n",
            "***************************************************\n",
            "\n",
            "Epoch: 54\n",
            "Batch 2, Loss: 0.00010716\n",
            "\n",
            "Val loss: 0.0050\n",
            "***************************************************\n",
            "\n",
            "Epoch: 55\n",
            "Batch 2, Loss: 0.00014796\n",
            "\n",
            "Val loss: 0.0054\n",
            "***************************************************\n",
            "\n",
            "Epoch: 56\n",
            "Batch 2, Loss: 0.00011347\n",
            "\n",
            "Val loss: 0.0065\n",
            "***************************************************\n",
            "\n",
            "Epoch: 57\n",
            "Batch 2, Loss: 0.00011868\n",
            "\n",
            "Val loss: 0.0051\n",
            "***************************************************\n",
            "\n",
            "Epoch: 58\n",
            "Batch 2, Loss: 0.00011237\n",
            "\n",
            "Val loss: 0.0053\n",
            "***************************************************\n",
            "\n",
            "Epoch: 59\n",
            "Batch 2, Loss: 0.00009334\n",
            "\n",
            "Val loss: 0.0065\n",
            "***************************************************\n",
            "\n",
            "Epoch: 60\n",
            "Batch 2, Loss: 0.00009420\n",
            "\n",
            "Val loss: 0.0049\n",
            "***************************************************\n",
            "\n",
            "Epoch: 61\n",
            "Batch 2, Loss: 0.00012096\n",
            "\n",
            "Val loss: 0.0067\n",
            "***************************************************\n",
            "\n",
            "Epoch: 62\n",
            "Batch 2, Loss: 0.00015534\n",
            "\n",
            "Val loss: 0.0063\n",
            "***************************************************\n",
            "\n",
            "Epoch: 63\n",
            "Batch 2, Loss: 0.00010679\n",
            "\n",
            "Val loss: 0.0063\n",
            "***************************************************\n",
            "\n",
            "Epoch: 64\n",
            "Batch 2, Loss: 0.00011961\n",
            "\n",
            "Val loss: 0.0050\n",
            "***************************************************\n",
            "\n",
            "Epoch: 65\n",
            "Batch 2, Loss: 0.00013674\n",
            "\n",
            "Val loss: 0.0064\n",
            "***************************************************\n",
            "\n",
            "Epoch: 66\n",
            "Batch 2, Loss: 0.00012566\n",
            "\n",
            "Val loss: 0.0057\n",
            "***************************************************\n",
            "\n",
            "Epoch: 67\n",
            "Batch 2, Loss: 0.00010468\n",
            "\n",
            "Val loss: 0.0051\n",
            "***************************************************\n",
            "\n",
            "Epoch: 68\n",
            "Batch 2, Loss: 0.00010411\n",
            "\n",
            "Val loss: 0.0050\n",
            "***************************************************\n",
            "\n",
            "Epoch: 69\n",
            "Batch 2, Loss: 0.00009531\n",
            "\n",
            "Val loss: 0.0055\n",
            "***************************************************\n",
            "\n",
            "Epoch: 70\n",
            "Batch 2, Loss: 0.00010841\n",
            "\n",
            "Val loss: 0.0054\n",
            "***************************************************\n",
            "\n",
            "Epoch: 71\n",
            "Batch 2, Loss: 0.00011679\n",
            "\n",
            "Val loss: 0.0078\n",
            "***************************************************\n",
            "\n",
            "Epoch: 72\n",
            "Batch 2, Loss: 0.00010842\n",
            "\n",
            "Val loss: 0.0047\n",
            "***************************************************\n",
            "\n",
            "Epoch: 73\n",
            "Batch 2, Loss: 0.00008704\n",
            "\n",
            "Val loss: 0.0048\n",
            "***************************************************\n",
            "\n",
            "Epoch: 74\n",
            "Batch 2, Loss: 0.00008376\n",
            "\n",
            "Val loss: 0.0050\n",
            "***************************************************\n",
            "\n",
            "Epoch: 75\n",
            "Batch 2, Loss: 0.00008741\n",
            "\n",
            "Val loss: 0.0061\n",
            "***************************************************\n",
            "\n",
            "Epoch: 76\n",
            "Batch 2, Loss: 0.00010064\n",
            "\n",
            "Val loss: 0.0054\n",
            "***************************************************\n",
            "\n",
            "Epoch: 77\n",
            "Batch 2, Loss: 0.00008127\n",
            "\n",
            "Val loss: 0.0052\n",
            "***************************************************\n",
            "\n",
            "Epoch: 78\n",
            "Batch 2, Loss: 0.00007536\n",
            "\n",
            "Val loss: 0.0057\n",
            "***************************************************\n",
            "\n",
            "Epoch: 79\n",
            "Batch 2, Loss: 0.00012892\n",
            "\n",
            "Val loss: 0.0078\n",
            "***************************************************\n",
            "\n",
            "Epoch: 80\n",
            "Batch 2, Loss: 0.00010381\n",
            "\n",
            "Val loss: 0.0068\n",
            "***************************************************\n",
            "\n",
            "Epoch: 81\n",
            "Batch 2, Loss: 0.00012643\n",
            "\n",
            "Val loss: 0.0067\n",
            "***************************************************\n",
            "\n",
            "Epoch: 82\n",
            "Batch 2, Loss: 0.00010358\n",
            "\n",
            "Val loss: 0.0047\n",
            "***************************************************\n",
            "\n",
            "Epoch: 83\n",
            "Batch 2, Loss: 0.00010740\n",
            "\n",
            "Val loss: 0.0050\n",
            "***************************************************\n",
            "\n",
            "Epoch: 84\n",
            "Batch 2, Loss: 0.00013597\n",
            "\n",
            "Val loss: 0.0051\n",
            "***************************************************\n",
            "\n",
            "Epoch: 85\n",
            "Batch 2, Loss: 0.00010464\n",
            "\n",
            "Val loss: 0.0049\n",
            "***************************************************\n",
            "\n",
            "Epoch: 86\n",
            "Batch 2, Loss: 0.00009552\n",
            "\n",
            "Val loss: 0.0056\n",
            "***************************************************\n",
            "\n",
            "Epoch: 87\n",
            "Batch 2, Loss: 0.00010629\n",
            "\n",
            "Val loss: 0.0074\n",
            "***************************************************\n",
            "\n",
            "Epoch: 88\n",
            "Batch 2, Loss: 0.00009432\n",
            "\n",
            "Val loss: 0.0050\n",
            "***************************************************\n",
            "\n",
            "Epoch: 89\n",
            "Batch 2, Loss: 0.00010698\n",
            "\n",
            "Val loss: 0.0050\n",
            "***************************************************\n",
            "\n",
            "Epoch: 90\n",
            "Batch 2, Loss: 0.00009104\n",
            "\n",
            "Val loss: 0.0048\n",
            "***************************************************\n",
            "\n",
            "Epoch: 91\n",
            "Batch 2, Loss: 0.00013090\n",
            "\n",
            "Val loss: 0.0052\n",
            "***************************************************\n",
            "\n",
            "Epoch: 92\n",
            "Batch 2, Loss: 0.00011029\n",
            "\n",
            "Val loss: 0.0048\n",
            "***************************************************\n",
            "\n",
            "Epoch: 93\n",
            "Batch 2, Loss: 0.00014555\n",
            "\n",
            "Val loss: 0.0050\n",
            "***************************************************\n",
            "\n",
            "Epoch: 94\n",
            "Batch 2, Loss: 0.00008501\n",
            "\n",
            "Val loss: 0.0049\n",
            "***************************************************\n",
            "\n",
            "Epoch: 95\n",
            "Batch 2, Loss: 0.00011331\n",
            "\n",
            "Val loss: 0.0051\n",
            "***************************************************\n",
            "\n",
            "Epoch: 96\n",
            "Batch 2, Loss: 0.00008243\n",
            "\n",
            "Val loss: 0.0062\n",
            "***************************************************\n",
            "\n",
            "Epoch: 97\n",
            "Batch 2, Loss: 0.00012113\n",
            "\n",
            "Val loss: 0.0054\n",
            "***************************************************\n",
            "\n",
            "Epoch: 98\n",
            "Batch 2, Loss: 0.00010556\n",
            "\n",
            "Val loss: 0.0055\n",
            "***************************************************\n",
            "\n",
            "Epoch: 99\n",
            "Batch 2, Loss: 0.00010221\n",
            "\n",
            "Val loss: 0.0087\n",
            "***************************************************\n",
            "\n",
            "Epoch: 100\n",
            "Batch 2, Loss: 0.00013787\n",
            "\n",
            "Val loss: 0.0056\n",
            "***************************************************\n",
            "\n",
            "Epoch: 101\n",
            "Batch 2, Loss: 0.00012965\n",
            "\n",
            "Val loss: 0.0079\n",
            "***************************************************\n",
            "\n",
            "Epoch: 102\n",
            "Batch 2, Loss: 0.00014080\n",
            "\n",
            "Val loss: 0.0077\n",
            "***************************************************\n",
            "\n",
            "Epoch: 103\n",
            "Batch 2, Loss: 0.00009972\n",
            "\n",
            "Val loss: 0.0049\n",
            "***************************************************\n",
            "\n",
            "Epoch: 104\n",
            "Batch 2, Loss: 0.00010855\n",
            "\n",
            "Val loss: 0.0059\n",
            "***************************************************\n",
            "\n",
            "Epoch: 105\n",
            "Batch 2, Loss: 0.00011608\n",
            "\n",
            "Val loss: 0.0054\n",
            "***************************************************\n",
            "\n",
            "Epoch: 106\n",
            "Batch 2, Loss: 0.00010289\n",
            "\n",
            "Val loss: 0.0061\n",
            "***************************************************\n",
            "\n",
            "Epoch: 107\n",
            "Batch 2, Loss: 0.00009317\n",
            "\n",
            "Val loss: 0.0050\n",
            "***************************************************\n",
            "\n",
            "Epoch: 108\n",
            "Batch 2, Loss: 0.00015997\n",
            "\n",
            "Val loss: 0.0051\n",
            "***************************************************\n",
            "\n",
            "Epoch: 109\n",
            "Batch 2, Loss: 0.00008757\n",
            "\n",
            "Val loss: 0.0051\n",
            "***************************************************\n",
            "\n",
            "Epoch: 110\n",
            "Batch 2, Loss: 0.00010636\n",
            "\n",
            "Val loss: 0.0053\n",
            "***************************************************\n",
            "\n",
            "Epoch: 111\n",
            "Batch 2, Loss: 0.00012300\n",
            "\n",
            "Val loss: 0.0054\n",
            "***************************************************\n",
            "\n",
            "Epoch: 112\n",
            "Batch 2, Loss: 0.00009281\n",
            "\n",
            "Val loss: 0.0056\n",
            "***************************************************\n",
            "\n",
            "Epoch: 113\n",
            "Batch 2, Loss: 0.00009920\n",
            "\n",
            "Val loss: 0.0163\n",
            "***************************************************\n",
            "\n",
            "Epoch: 114\n",
            "Batch 2, Loss: 0.00014615\n",
            "\n",
            "Val loss: 0.0056\n",
            "***************************************************\n",
            "\n",
            "Epoch: 115\n",
            "Batch 2, Loss: 0.00009253\n",
            "\n",
            "Val loss: 0.0125\n",
            "***************************************************\n",
            "\n",
            "Epoch: 116\n",
            "Batch 2, Loss: 0.00012359\n",
            "\n",
            "Val loss: 0.0064\n",
            "***************************************************\n",
            "\n",
            "Epoch: 117\n",
            "Batch 2, Loss: 0.00011077\n",
            "\n",
            "Val loss: 0.0051\n",
            "***************************************************\n",
            "\n",
            "Epoch: 118\n",
            "Batch 2, Loss: 0.00010318\n",
            "\n",
            "Val loss: 0.0063\n",
            "***************************************************\n",
            "\n",
            "Epoch: 119\n",
            "Batch 2, Loss: 0.00014163\n",
            "\n",
            "Val loss: 0.0056\n",
            "***************************************************\n",
            "\n",
            "Epoch: 120\n",
            "Batch 2, Loss: 0.00009182\n",
            "\n",
            "Val loss: 0.0053\n",
            "***************************************************\n",
            "\n",
            "Epoch: 121\n",
            "Batch 2, Loss: 0.00012060\n",
            "\n",
            "Val loss: 0.0057\n",
            "***************************************************\n",
            "\n",
            "Epoch: 122\n",
            "Batch 2, Loss: 0.00011636\n",
            "\n",
            "Val loss: 0.0069\n",
            "***************************************************\n",
            "\n",
            "Epoch: 123\n",
            "Batch 2, Loss: 0.00010626\n",
            "\n",
            "Val loss: 0.0065\n",
            "***************************************************\n",
            "\n",
            "Epoch: 124\n",
            "Batch 2, Loss: 0.00010501\n",
            "\n",
            "Val loss: 0.0067\n",
            "***************************************************\n",
            "\n",
            "Epoch: 125\n",
            "Batch 2, Loss: 0.00014894\n",
            "\n",
            "Val loss: 0.0064\n",
            "***************************************************\n",
            "\n",
            "Epoch: 126\n",
            "Batch 2, Loss: 0.00012184\n",
            "\n",
            "Val loss: 0.0056\n",
            "***************************************************\n",
            "\n",
            "Epoch: 127\n",
            "Batch 2, Loss: 0.00008196\n",
            "\n",
            "Val loss: 0.0050\n",
            "***************************************************\n",
            "\n",
            "Epoch: 128\n",
            "Batch 2, Loss: 0.00008830\n",
            "\n",
            "Val loss: 0.0064\n",
            "***************************************************\n",
            "\n",
            "Epoch: 129\n",
            "Batch 2, Loss: 0.00009321\n",
            "\n",
            "Val loss: 0.0067\n",
            "***************************************************\n",
            "\n",
            "Epoch: 130\n",
            "Batch 2, Loss: 0.00013526\n",
            "\n",
            "Val loss: 0.0052\n",
            "***************************************************\n",
            "\n",
            "Epoch: 131\n",
            "Batch 2, Loss: 0.00007739\n",
            "\n",
            "Val loss: 0.0050\n",
            "***************************************************\n",
            "\n",
            "Epoch: 132\n",
            "Batch 2, Loss: 0.00008780\n",
            "\n",
            "Val loss: 0.0052\n",
            "***************************************************\n",
            "\n",
            "Epoch: 133\n",
            "Batch 2, Loss: 0.00011155\n",
            "\n",
            "Val loss: 0.0057\n",
            "***************************************************\n",
            "\n",
            "Epoch: 134\n",
            "Batch 2, Loss: 0.00009768\n",
            "\n",
            "Val loss: 0.0063\n",
            "***************************************************\n",
            "\n",
            "Epoch: 135\n",
            "Batch 2, Loss: 0.00013178\n",
            "\n",
            "Val loss: 0.0071\n",
            "***************************************************\n",
            "\n",
            "Epoch: 136\n",
            "Batch 2, Loss: 0.00012587\n",
            "\n",
            "Val loss: 0.0053\n",
            "***************************************************\n",
            "\n",
            "Epoch: 137\n",
            "Batch 2, Loss: 0.00010698\n",
            "\n",
            "Val loss: 0.0063\n",
            "***************************************************\n",
            "\n",
            "Epoch: 138\n",
            "Batch 2, Loss: 0.00012108\n",
            "\n",
            "Val loss: 0.0080\n",
            "***************************************************\n",
            "\n",
            "Epoch: 139\n",
            "Batch 2, Loss: 0.00012187\n",
            "\n",
            "Val loss: 0.0071\n",
            "***************************************************\n",
            "\n",
            "Epoch: 140\n",
            "Batch 2, Loss: 0.00009483\n",
            "\n",
            "Val loss: 0.0083\n",
            "***************************************************\n",
            "\n",
            "Epoch: 141\n",
            "Batch 2, Loss: 0.00011441\n",
            "\n",
            "Val loss: 0.0053\n",
            "***************************************************\n",
            "\n",
            "Epoch: 142\n",
            "Batch 2, Loss: 0.00008074\n",
            "\n",
            "Val loss: 0.0060\n",
            "***************************************************\n",
            "\n",
            "Epoch: 143\n",
            "Batch 2, Loss: 0.00010095\n",
            "\n",
            "Val loss: 0.0055\n",
            "***************************************************\n",
            "\n",
            "Epoch: 144\n",
            "Batch 2, Loss: 0.00013010\n",
            "\n",
            "Val loss: 0.0084\n",
            "***************************************************\n",
            "\n",
            "Epoch: 145\n",
            "Batch 2, Loss: 0.00008238\n",
            "\n",
            "Val loss: 0.0052\n",
            "***************************************************\n",
            "\n",
            "Epoch: 146\n",
            "Batch 2, Loss: 0.00009124\n",
            "\n",
            "Val loss: 0.0059\n",
            "***************************************************\n",
            "\n",
            "Epoch: 147\n",
            "Batch 2, Loss: 0.00011257\n",
            "\n",
            "Val loss: 0.0054\n",
            "***************************************************\n",
            "\n",
            "Epoch: 148\n",
            "Batch 2, Loss: 0.00009980\n",
            "\n",
            "Val loss: 0.0110\n",
            "***************************************************\n",
            "\n",
            "Epoch: 149\n",
            "Batch 2, Loss: 0.00011306\n",
            "\n",
            "Val loss: 0.0067\n",
            "***************************************************\n",
            "\n",
            "Epoch: 150\n",
            "Batch 2, Loss: 0.00012238\n",
            "\n",
            "Val loss: 0.0053\n",
            "***************************************************\n",
            "\n"
          ]
        }
      ]
    },
    {
      "cell_type": "code",
      "source": [
        "with torch.no_grad():\n",
        "  predicted = model(X_train.to(device)).to('cpu').numpy()\n",
        "\n",
        "plt.plot(y_train, label='Actual Close')\n",
        "plt.plot(predicted, label='Predicted Close')\n",
        "plt.xlabel('Day')\n",
        "plt.ylabel('Close')\n",
        "plt.legend()\n",
        "plt.show()"
      ],
      "metadata": {
        "id": "dxOoebnATmhl",
        "colab": {
          "base_uri": "https://localhost:8080/",
          "height": 449
        },
        "outputId": "baa43127-331f-4de1-d202-6656e18259b6"
      },
      "execution_count": 737,
      "outputs": [
        {
          "output_type": "display_data",
          "data": {
            "text/plain": [
              "<Figure size 640x480 with 1 Axes>"
            ],
            "image/png": "[encoded data removed]"
          },
          "metadata": {}
        }
      ]
    },
    {
      "cell_type": "code",
      "source": [
        "train_predictions = predicted.flatten()\n",
        "train_predictions.shape"
      ],
      "metadata": {
        "id": "ZN-2IloNUcKR",
        "colab": {
          "base_uri": "https://localhost:8080/"
        },
        "outputId": "e072a7c4-3194-4505-c344-e0eaee514e0c"
      },
      "execution_count": 738,
      "outputs": [
        {
          "output_type": "execute_result",
          "data": {
            "text/plain": [
              "(1373,)"
            ]
          },
          "metadata": {},
          "execution_count": 738
        }
      ]
    },
    {
      "cell_type": "code",
      "source": [
        "from copy import deepcopy as dc\n",
        "\n",
        "train_predictions = predicted.flatten()\n",
        "\n",
        "dummies = np.zeros((train_predictions.shape[0], 3))\n",
        "dummies[:, 0] = train_predictions\n",
        "train_predictions = scaler_y.inverse_transform(dummies)[:,0]\n",
        "\n",
        "train_predictions = dc(train_predictions)\n",
        "train_predictions"
      ],
      "metadata": {
        "id": "MnjNSORXTp2e",
        "colab": {
          "base_uri": "https://localhost:8080/"
        },
        "outputId": "a5b02f8c-44cc-44f1-86cc-50c89fbe0723"
      },
      "execution_count": 739,
      "outputs": [
        {
          "output_type": "execute_result",
          "data": {
            "text/plain": [
              "array([ 48.19073457,  47.76283887,  47.93039017, ..., 113.4418316 ,\n",
              "       107.199626  , 100.73961871])"
            ]
          },
          "metadata": {},
          "execution_count": 739
        }
      ]
    },
    {
      "cell_type": "code",
      "source": [
        "dummies = np.zeros((X_train.shape[0], 3))\n",
        "dummies[:, 0] = y_train.flatten()\n",
        "dummies = scaler_y.inverse_transform(dummies)\n",
        "\n",
        "new_y_train = dc(dummies[:, 0])\n",
        "new_y_train"
      ],
      "metadata": {
        "id": "oFDMgQX4XYEi",
        "colab": {
          "base_uri": "https://localhost:8080/"
        },
        "outputId": "602736ae-b7cd-4696-9b6a-dd1fca0bf0ff"
      },
      "execution_count": 740,
      "outputs": [
        {
          "output_type": "execute_result",
          "data": {
            "text/plain": [
              "array([ 47.6225028 ,  47.26299787,  47.30099878, ..., 103.38999862,\n",
              "       102.18000018, 102.1100006 ])"
            ]
          },
          "metadata": {},
          "execution_count": 740
        }
      ]
    },
    {
      "cell_type": "code",
      "source": [
        "plt.plot(new_y_train, label='Actual Close')\n",
        "plt.plot(train_predictions, label='Predicted Close')\n",
        "plt.xlabel('Day')\n",
        "plt.ylabel('Close')\n",
        "plt.legend()\n",
        "plt.show()"
      ],
      "metadata": {
        "id": "13Zb8XalXLBv",
        "colab": {
          "base_uri": "https://localhost:8080/",
          "height": 449
        },
        "outputId": "b822a7af-b5a5-4e86-aed0-5bfa403e8d1c"
      },
      "execution_count": 741,
      "outputs": [
        {
          "output_type": "display_data",
          "data": {
            "text/plain": [
              "<Figure size 640x480 with 1 Axes>"
            ],
            "image/png": "[encoded data removed]"
          },
          "metadata": {}
        }
      ]
    },
    {
      "cell_type": "code",
      "source": [
        "test_predictions = model(X_test.to(device)).detach().cpu().numpy().flatten()\n",
        "y_test_tensor = torch.tensor(y_test, dtype=torch.float32)\n",
        "MAE = nn.L1Loss()\n",
        "MA_error = MAE(torch.tensor(test_predictions), y_test_tensor)\n",
        "print('Mean Absolute Error:', MA_error.item())"
      ],
      "metadata": {
        "colab": {
          "base_uri": "https://localhost:8080/"
        },
        "id": "JDyW-HQXhZR0",
        "outputId": "2dadc29b-fb99-4db4-f33c-0eb360699894"
      },
      "execution_count": 742,
      "outputs": [
        {
          "output_type": "stream",
          "name": "stdout",
          "text": [
            "Mean Absolute Error: 0.8672090172767639\n"
          ]
        },
        {
          "output_type": "stream",
          "name": "stderr",
          "text": [
            "<ipython-input-742-53784f11dfd3>:2: UserWarning: To copy construct from a tensor, it is recommended to use sourceTensor.clone().detach() or sourceTensor.clone().detach().requires_grad_(True), rather than torch.tensor(sourceTensor).\n",
            "  y_test_tensor = torch.tensor(y_test, dtype=torch.float32)\n",
            "/usr/local/lib/python3.10/dist-packages/torch/nn/modules/loss.py:101: UserWarning: Using a target size (torch.Size([344, 1])) that is different to the input size (torch.Size([344])). This will likely lead to incorrect results due to broadcasting. Please ensure they have the same size.\n",
            "  return F.l1_loss(input, target, reduction=self.reduction)\n"
          ]
        }
      ]
    },
    {
      "cell_type": "code",
      "source": [
        "dummies = np.zeros((X_test.shape[0], 3))\n",
        "dummies[:, 0] = test_predictions\n",
        "dummies = scaler_y.inverse_transform(dummies)\n",
        "\n",
        "test_predictions = dc(dummies[:, 0])\n",
        "test_predictions"
      ],
      "metadata": {
        "id": "pIwn96FgXwKo",
        "colab": {
          "base_uri": "https://localhost:8080/"
        },
        "outputId": "561c90fc-75ea-44a2-a921-47cb6910ef9e"
      },
      "execution_count": 743,
      "outputs": [
        {
          "output_type": "execute_result",
          "data": {
            "text/plain": [
              "array([ 98.40197182,  98.17678831,  97.25229184,  97.20322147,\n",
              "        99.30476802, 101.26076541, 101.99182945, 100.60902707,\n",
              "        96.04194744,  93.41118415,  95.03015698,  93.51410722,\n",
              "        92.80617927,  93.75421659,  94.75793926,  93.21670481,\n",
              "        91.67310745,  94.40803293,  94.94757522,  93.89345374,\n",
              "        92.72336236,  94.26225878,  91.33717729,  91.69723393,\n",
              "        93.39292083,  95.8716986 ,  99.95718923,  98.79348559,\n",
              "        96.03493109,  99.53431442, 100.17184256,  98.83757352,\n",
              "        96.94283975,  97.58339445,  97.15119691, 100.56817937,\n",
              "       103.58195225, 104.8786274 , 103.84791562, 103.98475822,\n",
              "       101.24791642, 100.42008189, 100.49071686,  99.43802217,\n",
              "        98.25704334, 102.10420301, 103.53276091, 103.72314079,\n",
              "       103.00319482, 104.8905448 , 105.89303797, 107.93640454,\n",
              "       107.26892576, 102.61628136, 105.00865263, 110.09908018,\n",
              "       107.93971995, 102.75253492, 103.16558617, 105.97530091,\n",
              "       105.55634298, 105.16091175, 105.7528353 , 106.66425158,\n",
              "       110.97861168, 114.00540844, 110.86170706, 109.25281445,\n",
              "       114.26990531, 117.59667626, 119.00144657, 115.06013633,\n",
              "       112.551578  , 116.68022214, 119.59808293, 116.82696123,\n",
              "       118.23278835, 120.41010805, 119.69323584, 122.02696557,\n",
              "       126.96651273, 126.84716579, 126.96860769, 120.71032955,\n",
              "       121.61589001, 125.66985342, 128.18679715, 126.51551372,\n",
              "       121.74581236, 124.56736592, 128.39805762, 129.34005653,\n",
              "       126.23092413, 127.17357425, 129.40627999, 128.95956473,\n",
              "       128.164587  , 129.89521546, 128.69098974, 130.06772433,\n",
              "       130.71252885, 130.41912755, 128.22872681, 129.96008562,\n",
              "       127.15345   , 127.65201571, 129.20417831, 132.96711236,\n",
              "       136.80896736, 136.64412719, 133.96417482, 134.53973725,\n",
              "       130.168869  , 127.37842209, 128.74983619, 130.18043479,\n",
              "       130.13487712, 130.10841261, 130.65871119, 132.43437274,\n",
              "       131.99080049, 127.99556935, 128.71850342, 140.62332338,\n",
              "       141.43241522, 141.07970506, 140.33526178, 140.72240702,\n",
              "       140.31826245, 140.32333195, 138.21993013, 135.66240099,\n",
              "       134.70655593, 134.06083903, 133.56456838, 132.61933942,\n",
              "       133.31589378, 132.27084178, 132.55957042, 133.62191343,\n",
              "       135.84134848, 135.94580009, 138.13775764, 137.64756723,\n",
              "       136.13027384, 136.6005322 , 138.18036225, 139.27685317,\n",
              "       141.62871479, 140.87748806, 144.18807093, 144.73227346,\n",
              "       142.34718648, 142.25793433, 137.69227923, 135.91096706,\n",
              "       131.12109171, 129.173369  , 129.29982274, 124.53236387,\n",
              "       123.00371555, 124.49512328, 128.87802311, 130.7648711 ,\n",
              "       125.83142509, 124.85927939, 124.89941369, 128.7229805 ,\n",
              "       129.66429767, 129.25267096, 128.79880142, 131.6392322 ,\n",
              "       130.64392779, 132.87702245, 132.36959077, 129.0965317 ,\n",
              "       127.53134261, 124.42851259, 126.37675593, 129.25477157,\n",
              "       122.77795601, 116.84450098, 126.92977581, 133.98918541,\n",
              "       134.97993587, 135.71717964, 136.52909792, 138.36727577,\n",
              "       141.58043243, 144.58585036, 142.66164702, 141.28118266,\n",
              "       144.08750172, 143.42223943, 146.66022127, 144.16803487,\n",
              "       144.33835155, 146.93477927, 146.81740744, 142.80636068,\n",
              "       147.75453696, 147.28677717, 149.46233006, 148.27687868,\n",
              "       148.335343  , 148.40383326, 148.47971749, 144.41807748,\n",
              "       148.37389562, 145.92461457, 147.6755233 , 149.4697602 ,\n",
              "       146.13193498, 147.90620819, 148.90750239, 147.21760178,\n",
              "       151.7894253 , 156.02027402, 154.89186922, 155.22829683,\n",
              "       154.53087193, 154.64917535, 155.01503863, 155.78291196,\n",
              "       154.792668  , 153.15573485, 150.91917384, 151.89769599,\n",
              "       147.90966775, 147.69562041, 148.83014615, 151.1336508 ,\n",
              "       154.03094953, 155.399778  , 156.04171878, 155.19887021,\n",
              "       152.31768897, 153.90806954, 155.55709985, 155.41113803,\n",
              "       156.97577766, 158.99681253, 157.49635341, 161.37951851,\n",
              "       161.830184  , 160.33811828, 157.65911106, 160.09737805,\n",
              "       170.57707592, 169.09921474, 170.17999518, 171.18073993,\n",
              "       170.91036053, 174.32234246, 172.56509346, 168.40476551,\n",
              "       170.76764572, 168.81160537, 169.57209378, 167.34987073,\n",
              "       169.34773333, 174.49461503, 175.58649321, 175.18835426,\n",
              "       173.53349018, 173.86123045, 176.25760283, 177.50372316,\n",
              "       179.13192375, 172.87884626, 174.97795416, 177.02730769,\n",
              "       176.47238957, 171.56532554, 175.51294249, 177.4000313 ,\n",
              "       177.9659567 , 174.83940439, 175.51529409, 175.28272114,\n",
              "       176.93499846, 179.80677332, 177.71865461, 179.4124331 ,\n",
              "       178.12349561, 177.9868633 , 181.18632417, 181.53855271,\n",
              "       178.85227816, 181.60323067, 180.94061845, 184.70216076,\n",
              "       184.60654121, 184.06584573, 184.46729953, 186.76526209,\n",
              "       184.53681636, 184.0565524 , 183.12422104, 180.35011434,\n",
              "       180.18459809, 174.59372581, 177.83738313, 178.57422894,\n",
              "       177.52538499, 169.15029866, 180.12727339, 180.78841586,\n",
              "       177.14782704, 180.87956738, 183.31531092, 185.66121893,\n",
              "       185.65067744, 187.18880281, 185.86288194, 188.4541972 ,\n",
              "       186.20902799, 185.02787052, 185.37440549, 182.72660216,\n",
              "       184.83858957, 183.89004124, 184.31767917, 180.50437911,\n",
              "       183.22283436, 181.1760495 , 181.17218293, 180.98254472,\n",
              "       182.88008004, 177.78619519, 175.26668505, 178.15723199,\n",
              "       178.81080412, 180.17891807, 183.70517405, 183.70871049,\n",
              "       184.99551345, 184.25379261, 185.46038802, 183.7415198 ,\n",
              "       182.26392544, 182.75879643, 181.76441908, 185.10412106])"
            ]
          },
          "metadata": {},
          "execution_count": 743
        }
      ]
    },
    {
      "cell_type": "code",
      "source": [
        "dummies = np.zeros((X_test.shape[0], 3))\n",
        "dummies[:, 0] = y_test.flatten()\n",
        "dummies = scaler_y.inverse_transform(dummies)\n",
        "\n",
        "new_y_test = dc(dummies[:, 0])\n",
        "new_y_test"
      ],
      "metadata": {
        "id": "0c_UbiEBX3pK",
        "colab": {
          "base_uri": "https://localhost:8080/"
        },
        "outputId": "8d97efad-a745-48f1-e22a-697ebb4fe4ce"
      },
      "execution_count": 744,
      "outputs": [
        {
          "output_type": "execute_result",
          "data": {
            "text/plain": [
              "array([100.0500027 ,  98.23999766,  97.61000141,  99.54000121,\n",
              "        99.69999687, 101.160004  ,  98.15000158,  97.19999707,\n",
              "        94.58000251,  95.79000095,  95.81999964,  93.4999999 ,\n",
              "        93.76000287,  94.23000346,  92.16999765,  92.12999789,\n",
              "        94.90000286,  93.74999954,  93.55000299,  93.9199974 ,\n",
              "        92.24999943,  90.73000397,  92.43000062,  94.8799962 ,\n",
              "        96.19999738, 100.0400005 ,  98.94999682,  97.70999855,\n",
              "       100.61000049,  98.69999718,  98.70999938,  98.12999718,\n",
              "        98.04000111,  97.23999796, 100.25000037, 102.00000012,\n",
              "       103.29000148, 102.41000446, 103.94999755, 101.09999757,\n",
              "       102.0599975 , 102.16999798,  99.91999782,  97.83000236,\n",
              "       102.40000226, 102.5100016 , 102.73999797, 102.30000286,\n",
              "       104.30000337, 103.80999838, 106.95999883, 106.20999878,\n",
              "       102.57000012, 104.98000271, 109.81999987, 105.44999652,\n",
              "       102.05000322, 103.62999719, 103.65000159, 103.99999951,\n",
              "       105.66000375, 105.83000217, 106.62000312, 110.19000219,\n",
              "       112.17999994, 110.26000178, 111.19999702, 113.400002  ,\n",
              "       115.50000002, 118.15000196, 116.25      , 115.010002  ,\n",
              "       114.989998  , 116.74999999, 115.        , 120.11000074,\n",
              "       121.66000394, 120.58000189, 122.76999676, 124.24999981,\n",
              "       125.3000026 , 126.61000044, 121.23000311, 124.24999981,\n",
              "       123.43000017, 126.56999955, 126.66000354, 126.41999818,\n",
              "       127.11000085, 125.48999807, 125.77999861, 124.83000201,\n",
              "       130.14999404, 129.33000232, 127.33000181, 129.17999304,\n",
              "       129.03999275, 127.9000018 , 130.36000071, 130.22000154,\n",
              "       130.38000511, 128.36000132, 129.77999851, 127.12999734,\n",
              "       128.77999882, 130.80000261, 134.30000323, 134.67999192,\n",
              "       133.55999747, 132.83000182, 135.36000144, 129.96000648,\n",
              "       129.99999946, 128.80000322, 129.13000465, 128.14999353,\n",
              "       128.24999971, 132.21000664, 133.67999336, 131.69000183,\n",
              "       128.21000674, 128.9100037 , 139.57000688, 142.22000126,\n",
              "       139.94000128, 137.85000582, 138.5599982 , 138.41000474,\n",
              "       140.5700077 , 137.66999785, 135.07000656, 133.97999609,\n",
              "       133.22000062, 134.67999192, 134.25000014, 135.52000501,\n",
              "       131.83999641, 133.25999473, 133.13999884, 134.91000299,\n",
              "       135.07000656, 138.00999582, 138.11999404, 137.27000475,\n",
              "       135.36000144, 137.85000582, 138.22999677, 143.10000506,\n",
              "       141.22999698, 144.85000707, 144.71999993, 140.38999973,\n",
              "       139.97999652, 137.63000487, 135.28999394, 129.33000232,\n",
              "       129.11999453, 131.27000433, 125.98000307, 125.98000307,\n",
              "       125.98000307, 127.12000306, 129.4600072 , 124.72000153,\n",
              "       127.00000038, 125.95999866, 127.95999918, 128.25999513,\n",
              "       129.47999578, 131.83000212, 132.33000254, 129.7899928 ,\n",
              "       132.55000349, 131.47000088, 128.13000495, 128.3999943 ,\n",
              "       125.16999772, 126.55999848, 128.55999787, 121.38999876,\n",
              "       119.57      , 127.73999823, 132.71000705, 133.08999574,\n",
              "       137.00000071, 138.07000677, 138.600007  , 139.74000473,\n",
              "       142.71000625, 142.08000209, 140.60000639, 143.5599978 ,\n",
              "       142.58999566, 145.80000254, 143.19999768, 142.83000102,\n",
              "       145.17999266, 146.13000396, 143.89999351, 146.71000729,\n",
              "       146.74000598, 147.72999669, 147.0299986 , 146.32000622,\n",
              "       146.08999516, 147.0299986 , 144.83999695, 146.88000515,\n",
              "       144.52000338, 146.88000515, 147.41999741, 145.88999861,\n",
              "       147.47999705, 148.83999573, 147.41999741, 149.97000143,\n",
              "       154.07000865, 153.78999223, 152.11999427, 153.83999533,\n",
              "       153.42000009, 153.4100058 , 153.33999604, 153.38000485,\n",
              "       151.94000213, 149.92999262, 148.47000132, 144.57000647,\n",
              "       145.24000587, 149.10000548, 151.36999535, 153.72999485,\n",
              "       155.17999412, 154.61999294, 153.1600039 , 151.71000689,\n",
              "       153.49999961, 155.33999769, 154.78000103, 156.02000269,\n",
              "       156.86999649, 157.75000029, 159.11999552, 161.25999407,\n",
              "       159.00000076, 155.19999627, 159.27999909, 171.81000017,\n",
              "       170.3099978 , 169.14999567, 170.52999875, 169.83999495,\n",
              "       174.449998  , 172.33999588, 168.63999758, 170.97999494,\n",
              "       169.80000423, 169.50999352, 167.08000235, 168.58999448,\n",
              "       174.58000062, 174.99000609, 174.72999633, 173.53999325,\n",
              "       173.1600023 , 176.75999441, 178.22000154, 177.58000083,\n",
              "       174.11999658, 173.50999682, 176.82000536, 175.35000395,\n",
              "       171.96000493, 175.38999918, 176.56000013, 178.75000177,\n",
              "       174.41999705, 174.47999443, 175.89999275, 178.14999178,\n",
              "       178.14999178, 178.86999654, 179.7100051 , 178.30000106,\n",
              "       179.82999986, 180.38000676, 180.96999985, 180.69000152,\n",
              "       182.41000484, 180.00000224, 185.07000481, 185.1900041 ,\n",
              "       185.66999672, 185.94999505, 189.05000145, 186.13000528,\n",
              "       183.61999649, 183.32000507, 181.27999913, 179.2200001 ,\n",
              "       174.63000371, 177.22999726, 179.53999367, 176.58999656,\n",
              "       173.66999587, 179.6199932 , 180.96000556, 175.00000038,\n",
              "       178.99999915, 184.72000125, 186.2100048 , 188.69999788,\n",
              "       188.75999526, 187.99999979, 189.50000216, 187.47999384,\n",
              "       186.57000718, 187.07000646, 185.99000385, 183.63000435,\n",
              "       184.6999991 , 183.53999245, 183.14999364, 183.13000507,\n",
              "       181.0500039 , 180.7499989 , 182.14999508, 182.02000603,\n",
              "       179.32000629, 176.44000084, 178.3399963 , 179.33999487,\n",
              "       181.27999913, 184.99999958, 184.30000149, 187.05999861,\n",
              "       187.22999646, 186.89000075, 183.83000316, 183.6600053 ,\n",
              "       184.0599984 , 182.80999793, 186.10000433, 187.71000717])"
            ]
          },
          "metadata": {},
          "execution_count": 744
        }
      ]
    },
    {
      "cell_type": "code",
      "source": [
        "plt.plot(new_y_test, label='Actual Close')\n",
        "plt.plot(test_predictions, label='Predicted Close')\n",
        "plt.xlabel('Day')\n",
        "plt.ylabel('Close')\n",
        "plt.legend()\n",
        "plt.show()"
      ],
      "metadata": {
        "id": "AKTJK2lwX7zE",
        "colab": {
          "base_uri": "https://localhost:8080/",
          "height": 449
        },
        "outputId": "c8312a95-279f-4639-ec9f-deb430de294b"
      },
      "execution_count": 745,
      "outputs": [
        {
          "output_type": "display_data",
          "data": {
            "text/plain": [
              "<Figure size 640x480 with 1 Axes>"
            ],
            "image/png": "[encoded data removed]"
          },
          "metadata": {}
        }
      ]
    },
    {
      "cell_type": "code",
      "source": [
        "model_save_path = 'lstm_model.pth'\n",
        "torch.save(model.state_dict(), model_save_path)"
      ],
      "metadata": {
        "id": "oNWHwiBMxMcd"
      },
      "execution_count": 746,
      "outputs": []
    }
  ]
}